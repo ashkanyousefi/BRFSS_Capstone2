{
 "cells": [
  {
   "cell_type": "code",
   "execution_count": null,
   "metadata": {
    "colab": {},
    "colab_type": "code",
    "id": "wA98fh8rbv9c"
   },
   "outputs": [],
   "source": [
    "import pandas as pd\n",
    "#import BRFSS 2010 data and select columns of interest\n",
    "df2=pd.read_csv('10.csv')\n",
    "df2.shape\n",
    "df2=df2[['PHYSHLTH', 'HLTHPLAN', 'PERSDOC2', 'MEDCOST', 'CHECKUP1', 'QLREST2', 'EXERANY2', 'SMOKDAY2', 'AGE', 'EDUCA', 'INCOME2', 'SEX', 'EMTSUPRT', 'LSATISFY', 'ADANXEV', 'ADDEPEV']]\n"
   ]
  },
  {
   "cell_type": "code",
   "execution_count": null,
   "metadata": {
    "colab": {},
    "colab_type": "code",
    "id": "62W388jzbv9h",
    "outputId": "e8a25ecb-1819-49a0-9a33-3fb12fc87ac6"
   },
   "outputs": [
    {
     "data": {
      "text/html": [
       "<div>\n",
       "<style scoped>\n",
       "    .dataframe tbody tr th:only-of-type {\n",
       "        vertical-align: middle;\n",
       "    }\n",
       "\n",
       "    .dataframe tbody tr th {\n",
       "        vertical-align: top;\n",
       "    }\n",
       "\n",
       "    .dataframe thead th {\n",
       "        text-align: right;\n",
       "    }\n",
       "</style>\n",
       "<table border=\"1\" class=\"dataframe\">\n",
       "  <thead>\n",
       "    <tr style=\"text-align: right;\">\n",
       "      <th></th>\n",
       "      <th>count</th>\n",
       "      <th>mean</th>\n",
       "      <th>std</th>\n",
       "      <th>min</th>\n",
       "      <th>25%</th>\n",
       "      <th>50%</th>\n",
       "      <th>75%</th>\n",
       "      <th>max</th>\n",
       "    </tr>\n",
       "  </thead>\n",
       "  <tbody>\n",
       "    <tr>\n",
       "      <th>PHYSHLTH</th>\n",
       "      <td>451069.0</td>\n",
       "      <td>60.513775</td>\n",
       "      <td>37.008804</td>\n",
       "      <td>1.0</td>\n",
       "      <td>15.0</td>\n",
       "      <td>88.0</td>\n",
       "      <td>88.0</td>\n",
       "      <td>99.0</td>\n",
       "    </tr>\n",
       "    <tr>\n",
       "      <th>HLTHPLAN</th>\n",
       "      <td>451072.0</td>\n",
       "      <td>1.124619</td>\n",
       "      <td>0.470611</td>\n",
       "      <td>1.0</td>\n",
       "      <td>1.0</td>\n",
       "      <td>1.0</td>\n",
       "      <td>1.0</td>\n",
       "      <td>9.0</td>\n",
       "    </tr>\n",
       "    <tr>\n",
       "      <th>PERSDOC2</th>\n",
       "      <td>451072.0</td>\n",
       "      <td>1.349510</td>\n",
       "      <td>0.763039</td>\n",
       "      <td>1.0</td>\n",
       "      <td>1.0</td>\n",
       "      <td>1.0</td>\n",
       "      <td>1.0</td>\n",
       "      <td>9.0</td>\n",
       "    </tr>\n",
       "    <tr>\n",
       "      <th>MEDCOST</th>\n",
       "      <td>451073.0</td>\n",
       "      <td>1.895964</td>\n",
       "      <td>0.429873</td>\n",
       "      <td>1.0</td>\n",
       "      <td>2.0</td>\n",
       "      <td>2.0</td>\n",
       "      <td>2.0</td>\n",
       "      <td>9.0</td>\n",
       "    </tr>\n",
       "    <tr>\n",
       "      <th>CHECKUP1</th>\n",
       "      <td>451073.0</td>\n",
       "      <td>1.599346</td>\n",
       "      <td>1.249452</td>\n",
       "      <td>1.0</td>\n",
       "      <td>1.0</td>\n",
       "      <td>1.0</td>\n",
       "      <td>2.0</td>\n",
       "      <td>9.0</td>\n",
       "    </tr>\n",
       "    <tr>\n",
       "      <th>QLREST2</th>\n",
       "      <td>451072.0</td>\n",
       "      <td>41.332650</td>\n",
       "      <td>37.626869</td>\n",
       "      <td>1.0</td>\n",
       "      <td>5.0</td>\n",
       "      <td>25.0</td>\n",
       "      <td>88.0</td>\n",
       "      <td>99.0</td>\n",
       "    </tr>\n",
       "    <tr>\n",
       "      <th>EXERANY2</th>\n",
       "      <td>451073.0</td>\n",
       "      <td>1.283132</td>\n",
       "      <td>0.507188</td>\n",
       "      <td>1.0</td>\n",
       "      <td>1.0</td>\n",
       "      <td>1.0</td>\n",
       "      <td>2.0</td>\n",
       "      <td>9.0</td>\n",
       "    </tr>\n",
       "    <tr>\n",
       "      <th>SMOKDAY2</th>\n",
       "      <td>207503.0</td>\n",
       "      <td>2.414413</td>\n",
       "      <td>0.881948</td>\n",
       "      <td>1.0</td>\n",
       "      <td>1.0</td>\n",
       "      <td>3.0</td>\n",
       "      <td>3.0</td>\n",
       "      <td>9.0</td>\n",
       "    </tr>\n",
       "    <tr>\n",
       "      <th>AGE</th>\n",
       "      <td>451074.0</td>\n",
       "      <td>56.342866</td>\n",
       "      <td>17.049061</td>\n",
       "      <td>7.0</td>\n",
       "      <td>45.0</td>\n",
       "      <td>57.0</td>\n",
       "      <td>69.0</td>\n",
       "      <td>99.0</td>\n",
       "    </tr>\n",
       "    <tr>\n",
       "      <th>EDUCA</th>\n",
       "      <td>450792.0</td>\n",
       "      <td>4.824019</td>\n",
       "      <td>1.102443</td>\n",
       "      <td>1.0</td>\n",
       "      <td>4.0</td>\n",
       "      <td>5.0</td>\n",
       "      <td>6.0</td>\n",
       "      <td>9.0</td>\n",
       "    </tr>\n",
       "    <tr>\n",
       "      <th>INCOME2</th>\n",
       "      <td>450600.0</td>\n",
       "      <td>17.393684</td>\n",
       "      <td>29.400280</td>\n",
       "      <td>1.0</td>\n",
       "      <td>4.0</td>\n",
       "      <td>7.0</td>\n",
       "      <td>8.0</td>\n",
       "      <td>99.0</td>\n",
       "    </tr>\n",
       "    <tr>\n",
       "      <th>SEX</th>\n",
       "      <td>451075.0</td>\n",
       "      <td>1.622870</td>\n",
       "      <td>0.484668</td>\n",
       "      <td>1.0</td>\n",
       "      <td>1.0</td>\n",
       "      <td>2.0</td>\n",
       "      <td>2.0</td>\n",
       "      <td>2.0</td>\n",
       "    </tr>\n",
       "    <tr>\n",
       "      <th>EMTSUPRT</th>\n",
       "      <td>436221.0</td>\n",
       "      <td>1.974605</td>\n",
       "      <td>1.444904</td>\n",
       "      <td>1.0</td>\n",
       "      <td>1.0</td>\n",
       "      <td>1.0</td>\n",
       "      <td>2.0</td>\n",
       "      <td>9.0</td>\n",
       "    </tr>\n",
       "    <tr>\n",
       "      <th>LSATISFY</th>\n",
       "      <td>435968.0</td>\n",
       "      <td>1.688021</td>\n",
       "      <td>0.973586</td>\n",
       "      <td>1.0</td>\n",
       "      <td>1.0</td>\n",
       "      <td>2.0</td>\n",
       "      <td>2.0</td>\n",
       "      <td>9.0</td>\n",
       "    </tr>\n",
       "    <tr>\n",
       "      <th>ADANXEV</th>\n",
       "      <td>79160.0</td>\n",
       "      <td>1.892724</td>\n",
       "      <td>0.513281</td>\n",
       "      <td>1.0</td>\n",
       "      <td>2.0</td>\n",
       "      <td>2.0</td>\n",
       "      <td>2.0</td>\n",
       "      <td>9.0</td>\n",
       "    </tr>\n",
       "    <tr>\n",
       "      <th>ADDEPEV</th>\n",
       "      <td>79104.0</td>\n",
       "      <td>1.843459</td>\n",
       "      <td>0.528095</td>\n",
       "      <td>1.0</td>\n",
       "      <td>2.0</td>\n",
       "      <td>2.0</td>\n",
       "      <td>2.0</td>\n",
       "      <td>9.0</td>\n",
       "    </tr>\n",
       "  </tbody>\n",
       "</table>\n",
       "</div>"
      ],
      "text/plain": [
       "             count       mean        std  min   25%   50%   75%   max\n",
       "PHYSHLTH  451069.0  60.513775  37.008804  1.0  15.0  88.0  88.0  99.0\n",
       "HLTHPLAN  451072.0   1.124619   0.470611  1.0   1.0   1.0   1.0   9.0\n",
       "PERSDOC2  451072.0   1.349510   0.763039  1.0   1.0   1.0   1.0   9.0\n",
       "MEDCOST   451073.0   1.895964   0.429873  1.0   2.0   2.0   2.0   9.0\n",
       "CHECKUP1  451073.0   1.599346   1.249452  1.0   1.0   1.0   2.0   9.0\n",
       "QLREST2   451072.0  41.332650  37.626869  1.0   5.0  25.0  88.0  99.0\n",
       "EXERANY2  451073.0   1.283132   0.507188  1.0   1.0   1.0   2.0   9.0\n",
       "SMOKDAY2  207503.0   2.414413   0.881948  1.0   1.0   3.0   3.0   9.0\n",
       "AGE       451074.0  56.342866  17.049061  7.0  45.0  57.0  69.0  99.0\n",
       "EDUCA     450792.0   4.824019   1.102443  1.0   4.0   5.0   6.0   9.0\n",
       "INCOME2   450600.0  17.393684  29.400280  1.0   4.0   7.0   8.0  99.0\n",
       "SEX       451075.0   1.622870   0.484668  1.0   1.0   2.0   2.0   2.0\n",
       "EMTSUPRT  436221.0   1.974605   1.444904  1.0   1.0   1.0   2.0   9.0\n",
       "LSATISFY  435968.0   1.688021   0.973586  1.0   1.0   2.0   2.0   9.0\n",
       "ADANXEV    79160.0   1.892724   0.513281  1.0   2.0   2.0   2.0   9.0\n",
       "ADDEPEV    79104.0   1.843459   0.528095  1.0   2.0   2.0   2.0   9.0"
      ]
     },
     "execution_count": 2,
     "metadata": {
      "tags": []
     },
     "output_type": "execute_result"
    }
   ],
   "source": [
    "#descriptive statistics\n",
    "df2.describe().T\n"
   ]
  },
  {
   "cell_type": "code",
   "execution_count": null,
   "metadata": {
    "colab": {},
    "colab_type": "code",
    "id": "YQb5pglwbv9q",
    "outputId": "bcee0b30-644c-4410-e996-bd40bb27b7e8"
   },
   "outputs": [
    {
     "data": {
      "text/plain": [
       "(451075, 16)"
      ]
     },
     "execution_count": 3,
     "metadata": {
      "tags": []
     },
     "output_type": "execute_result"
    }
   ],
   "source": [
    "#shape of dataframe\n",
    "df2.shape"
   ]
  },
  {
   "cell_type": "code",
   "execution_count": null,
   "metadata": {
    "colab": {},
    "colab_type": "code",
    "id": "5sYwO-zRbv9t"
   },
   "outputs": [],
   "source": []
  },
  {
   "cell_type": "code",
   "execution_count": null,
   "metadata": {
    "colab": {},
    "colab_type": "code",
    "id": "gjJZsTizbv9x",
    "outputId": "394c8596-a079-4a71-a813-14b29cffa210"
   },
   "outputs": [
    {
     "data": {
      "text/plain": [
       "Index(['PHYSHLTH', 'HLTHPLAN', 'PERSDOC2', 'MEDCOST', 'CHECKUP1', 'QLREST2',\n",
       "       'EXERANY2', 'SMOKDAY2', 'AGE', 'EDUCA', 'INCOME2', 'SEX', 'EMTSUPRT',\n",
       "       'LSATISFY', 'ADANXEV', 'ADDEPEV'],\n",
       "      dtype='object')"
      ]
     },
     "execution_count": 4,
     "metadata": {
      "tags": []
     },
     "output_type": "execute_result"
    }
   ],
   "source": [
    "#column names\n",
    "df2.columns"
   ]
  },
  {
   "cell_type": "code",
   "execution_count": null,
   "metadata": {
    "colab": {},
    "colab_type": "code",
    "id": "xnUw1qK9bv90",
    "outputId": "d39bd9bd-c0c1-4e2f-9b68-467005b73273"
   },
   "outputs": [
    {
     "data": {
      "text/plain": [
       "array([ 3., 30., 88.,  2., 10.,  4., 28.,  5.,  7., 77.,  1., 20.,  9.,\n",
       "        6., 15., 14., 99., 18., 21., 29., 25., nan, 16., 26., 27.,  8.,\n",
       "       23., 12., 17., 22., 19., 11., 24., 13.])"
      ]
     },
     "execution_count": 5,
     "metadata": {
      "tags": []
     },
     "output_type": "execute_result"
    }
   ],
   "source": [
    "df2.PHYSHLTH.unique()\n"
   ]
  },
  {
   "cell_type": "code",
   "execution_count": null,
   "metadata": {
    "colab": {},
    "colab_type": "code",
    "id": "gbSh6PfRbv96"
   },
   "outputs": [],
   "source": []
  },
  {
   "cell_type": "code",
   "execution_count": null,
   "metadata": {
    "colab": {},
    "colab_type": "code",
    "id": "NQ8LZF5pbv99"
   },
   "outputs": [],
   "source": [
    "#recode variables as NAN according to missing values in codebook\n",
    "import numpy as np\n",
    "df2.PHYSHLTH=df2.PHYSHLTH.replace(88, 0)\n",
    "df2.PHYSHLTH=df2.PHYSHLTH.replace(77, np.nan)\n",
    "df2.PHYSHLTH=df2.PHYSHLTH.replace(99, np.nan)\n",
    "df2.ADDEPEV=df2.ADDEPEV.replace(7, np.nan)\n",
    "df2.ADDEPEV=df2.ADDEPEV.replace(9, np.nan)\n",
    "df2.HLTHPLAN=df2.HLTHPLAN.replace(7, np.nan)\n",
    "df2.HLTHPLAN=df2.HLTHPLAN.replace(9, np.nan)\n",
    "df2.PERSDOC2=df2.PERSDOC2.replace(7, np.nan)\n",
    "df2.PERSDOC2=df2.PERSDOC2.replace(9, np.nan)\n",
    "df2.MEDCOST=df2.MEDCOST.replace(7, np.nan)\n",
    "df2.MEDCOST=df2.MEDCOST.replace(9, np.nan)\n",
    "df2.CHECKUP1=df2.CHECKUP1.replace(7, np.nan)\n",
    "df2.CHECKUP1=df2.CHECKUP1.replace(9, np.nan)\n",
    "df2.QLREST2=df2.QLREST2.replace(77, np.nan)\n",
    "df2.QLREST2=df2.QLREST2.replace(99, np.nan)\n",
    "df2.QLREST2=df2.QLREST2.replace(88, 0)\n",
    "df2.EXERANY2=df2.EXERANY2.replace(7, np.nan)\n",
    "df2.EXERANY2=df2.EXERANY2.replace(9, np.nan)\n",
    "df2.SMOKDAY2=df2.SMOKDAY2.replace(7, np.nan)\n",
    "df2.SMOKDAY2=df2.SMOKDAY2.replace(9, np.nan)\n",
    "df2.AGE=df2.AGE.replace(7, np.nan)\n",
    "df2.AGE=df2.AGE.replace(9, np.nan)\n",
    "df2.EDUCA=df2.EDUCA.replace(9, np.nan)\n",
    "df2.INCOME2=df2.INCOME2.replace(77, np.nan)\n",
    "df2.INCOME2=df2.INCOME2.replace(99, np.nan)\n",
    "df2.EMTSUPRT=df2.EMTSUPRT.replace(7, np.nan)\n",
    "df2.EMTSUPRT=df2.EMTSUPRT.replace(9, np.nan)\n",
    "df2.LSATISFY=df2.LSATISFY.replace(7, np.nan)\n",
    "df2.LSATISFY=df2.LSATISFY.replace(9, np.nan)\n",
    "df2.ADANXEV=df2.ADANXEV.replace(7, np.nan)\n",
    "df2.ADANXEV=df2.ADANXEV.replace(9, np.nan)\n"
   ]
  },
  {
   "cell_type": "code",
   "execution_count": null,
   "metadata": {
    "colab": {},
    "colab_type": "code",
    "id": "tVWHgO4-bv-A"
   },
   "outputs": [],
   "source": [
    "#drop missing values for criterion and variables with >50% missing\n",
    "df2=df2.dropna(subset=['ADDEPEV', 'ADANXEV', 'SMOKDAY2'])"
   ]
  },
  {
   "cell_type": "code",
   "execution_count": null,
   "metadata": {
    "colab": {},
    "colab_type": "code",
    "id": "pOfBX94qbv-F",
    "outputId": "19d09539-c228-4317-cc03-891fa187fcae"
   },
   "outputs": [
    {
     "data": {
      "text/html": [
       "<div>\n",
       "<style scoped>\n",
       "    .dataframe tbody tr th:only-of-type {\n",
       "        vertical-align: middle;\n",
       "    }\n",
       "\n",
       "    .dataframe tbody tr th {\n",
       "        vertical-align: top;\n",
       "    }\n",
       "\n",
       "    .dataframe thead th {\n",
       "        text-align: right;\n",
       "    }\n",
       "</style>\n",
       "<table border=\"1\" class=\"dataframe\">\n",
       "  <thead>\n",
       "    <tr style=\"text-align: right;\">\n",
       "      <th></th>\n",
       "      <th>Missing</th>\n",
       "    </tr>\n",
       "  </thead>\n",
       "  <tbody>\n",
       "    <tr>\n",
       "      <th>INCOME2</th>\n",
       "      <td>4658</td>\n",
       "    </tr>\n",
       "    <tr>\n",
       "      <th>PHYSHLTH</th>\n",
       "      <td>862</td>\n",
       "    </tr>\n",
       "    <tr>\n",
       "      <th>EMTSUPRT</th>\n",
       "      <td>671</td>\n",
       "    </tr>\n",
       "    <tr>\n",
       "      <th>QLREST2</th>\n",
       "      <td>645</td>\n",
       "    </tr>\n",
       "    <tr>\n",
       "      <th>CHECKUP1</th>\n",
       "      <td>365</td>\n",
       "    </tr>\n",
       "    <tr>\n",
       "      <th>LSATISFY</th>\n",
       "      <td>285</td>\n",
       "    </tr>\n",
       "    <tr>\n",
       "      <th>AGE</th>\n",
       "      <td>231</td>\n",
       "    </tr>\n",
       "    <tr>\n",
       "      <th>MEDCOST</th>\n",
       "      <td>87</td>\n",
       "    </tr>\n",
       "    <tr>\n",
       "      <th>PERSDOC2</th>\n",
       "      <td>84</td>\n",
       "    </tr>\n",
       "    <tr>\n",
       "      <th>HLTHPLAN</th>\n",
       "      <td>80</td>\n",
       "    </tr>\n",
       "    <tr>\n",
       "      <th>EDUCA</th>\n",
       "      <td>67</td>\n",
       "    </tr>\n",
       "    <tr>\n",
       "      <th>EXERANY2</th>\n",
       "      <td>42</td>\n",
       "    </tr>\n",
       "  </tbody>\n",
       "</table>\n",
       "</div>"
      ],
      "text/plain": [
       "          Missing\n",
       "INCOME2      4658\n",
       "PHYSHLTH      862\n",
       "EMTSUPRT      671\n",
       "QLREST2       645\n",
       "CHECKUP1      365\n",
       "LSATISFY      285\n",
       "AGE           231\n",
       "MEDCOST        87\n",
       "PERSDOC2       84\n",
       "HLTHPLAN       80\n",
       "EDUCA          67\n",
       "EXERANY2       42"
      ]
     },
     "execution_count": 8,
     "metadata": {
      "tags": []
     },
     "output_type": "execute_result"
    }
   ],
   "source": [
    "#list missing values\n",
    "nas=pd.DataFrame(df2.isnull().sum().sort_values(ascending=False),columns = ['Missing'])\n",
    "pos = nas['Missing'] > 0\n",
    "nas[pos]"
   ]
  },
  {
   "cell_type": "code",
   "execution_count": null,
   "metadata": {
    "colab": {},
    "colab_type": "code",
    "id": "_GqQzFSnbv-I"
   },
   "outputs": [],
   "source": [
    "\n",
    "df1=df2[['PHYSHLTH', 'AGE', 'QLREST2']] #new df for float data\n",
    "\n"
   ]
  },
  {
   "cell_type": "code",
   "execution_count": null,
   "metadata": {
    "colab": {},
    "colab_type": "code",
    "id": "nXruukdZbv-L"
   },
   "outputs": [],
   "source": [
    "df2=df2.drop(['PHYSHLTH', 'AGE', 'QLREST2'],axis=1) #df2 for categorical data"
   ]
  },
  {
   "cell_type": "code",
   "execution_count": null,
   "metadata": {
    "colab": {},
    "colab_type": "code",
    "id": "YM7cKlqDbv-O",
    "outputId": "00dc84b4-4853-41c0-f116-22f2bd15bafa"
   },
   "outputs": [
    {
     "data": {
      "text/html": [
       "<div>\n",
       "<style scoped>\n",
       "    .dataframe tbody tr th:only-of-type {\n",
       "        vertical-align: middle;\n",
       "    }\n",
       "\n",
       "    .dataframe tbody tr th {\n",
       "        vertical-align: top;\n",
       "    }\n",
       "\n",
       "    .dataframe thead th {\n",
       "        text-align: right;\n",
       "    }\n",
       "</style>\n",
       "<table border=\"1\" class=\"dataframe\">\n",
       "  <thead>\n",
       "    <tr style=\"text-align: right;\">\n",
       "      <th></th>\n",
       "      <th>HLTHPLAN</th>\n",
       "      <th>PERSDOC2</th>\n",
       "      <th>MEDCOST</th>\n",
       "      <th>CHECKUP1</th>\n",
       "      <th>EXERANY2</th>\n",
       "      <th>SMOKDAY2</th>\n",
       "      <th>EDUCA</th>\n",
       "      <th>INCOME2</th>\n",
       "      <th>SEX</th>\n",
       "      <th>EMTSUPRT</th>\n",
       "      <th>LSATISFY</th>\n",
       "      <th>ADANXEV</th>\n",
       "      <th>ADDEPEV</th>\n",
       "    </tr>\n",
       "  </thead>\n",
       "  <tbody>\n",
       "    <tr>\n",
       "      <th>9633</th>\n",
       "      <td>1.0</td>\n",
       "      <td>3.0</td>\n",
       "      <td>2.0</td>\n",
       "      <td>3.0</td>\n",
       "      <td>1.0</td>\n",
       "      <td>3.0</td>\n",
       "      <td>6.0</td>\n",
       "      <td>7.0</td>\n",
       "      <td>1.0</td>\n",
       "      <td>2.0</td>\n",
       "      <td>2.0</td>\n",
       "      <td>2.0</td>\n",
       "      <td>2.0</td>\n",
       "    </tr>\n",
       "    <tr>\n",
       "      <th>9634</th>\n",
       "      <td>1.0</td>\n",
       "      <td>1.0</td>\n",
       "      <td>2.0</td>\n",
       "      <td>1.0</td>\n",
       "      <td>1.0</td>\n",
       "      <td>3.0</td>\n",
       "      <td>4.0</td>\n",
       "      <td>6.0</td>\n",
       "      <td>2.0</td>\n",
       "      <td>1.0</td>\n",
       "      <td>4.0</td>\n",
       "      <td>2.0</td>\n",
       "      <td>2.0</td>\n",
       "    </tr>\n",
       "    <tr>\n",
       "      <th>9645</th>\n",
       "      <td>1.0</td>\n",
       "      <td>1.0</td>\n",
       "      <td>2.0</td>\n",
       "      <td>8.0</td>\n",
       "      <td>1.0</td>\n",
       "      <td>2.0</td>\n",
       "      <td>6.0</td>\n",
       "      <td>8.0</td>\n",
       "      <td>2.0</td>\n",
       "      <td>1.0</td>\n",
       "      <td>1.0</td>\n",
       "      <td>2.0</td>\n",
       "      <td>2.0</td>\n",
       "    </tr>\n",
       "    <tr>\n",
       "      <th>9650</th>\n",
       "      <td>1.0</td>\n",
       "      <td>2.0</td>\n",
       "      <td>2.0</td>\n",
       "      <td>1.0</td>\n",
       "      <td>1.0</td>\n",
       "      <td>3.0</td>\n",
       "      <td>6.0</td>\n",
       "      <td>4.0</td>\n",
       "      <td>2.0</td>\n",
       "      <td>3.0</td>\n",
       "      <td>1.0</td>\n",
       "      <td>2.0</td>\n",
       "      <td>2.0</td>\n",
       "    </tr>\n",
       "    <tr>\n",
       "      <th>9651</th>\n",
       "      <td>1.0</td>\n",
       "      <td>1.0</td>\n",
       "      <td>2.0</td>\n",
       "      <td>1.0</td>\n",
       "      <td>1.0</td>\n",
       "      <td>1.0</td>\n",
       "      <td>5.0</td>\n",
       "      <td>5.0</td>\n",
       "      <td>2.0</td>\n",
       "      <td>1.0</td>\n",
       "      <td>2.0</td>\n",
       "      <td>1.0</td>\n",
       "      <td>1.0</td>\n",
       "    </tr>\n",
       "  </tbody>\n",
       "</table>\n",
       "</div>"
      ],
      "text/plain": [
       "      HLTHPLAN  PERSDOC2  MEDCOST  CHECKUP1  EXERANY2  SMOKDAY2  EDUCA  \\\n",
       "9633       1.0       3.0      2.0       3.0       1.0       3.0    6.0   \n",
       "9634       1.0       1.0      2.0       1.0       1.0       3.0    4.0   \n",
       "9645       1.0       1.0      2.0       8.0       1.0       2.0    6.0   \n",
       "9650       1.0       2.0      2.0       1.0       1.0       3.0    6.0   \n",
       "9651       1.0       1.0      2.0       1.0       1.0       1.0    5.0   \n",
       "\n",
       "      INCOME2  SEX  EMTSUPRT  LSATISFY  ADANXEV  ADDEPEV  \n",
       "9633      7.0  1.0       2.0       2.0      2.0      2.0  \n",
       "9634      6.0  2.0       1.0       4.0      2.0      2.0  \n",
       "9645      8.0  2.0       1.0       1.0      2.0      2.0  \n",
       "9650      4.0  2.0       3.0       1.0      2.0      2.0  \n",
       "9651      5.0  2.0       1.0       2.0      1.0      1.0  "
      ]
     },
     "execution_count": 11,
     "metadata": {
      "tags": []
     },
     "output_type": "execute_result"
    }
   ],
   "source": [
    "df2.head()"
   ]
  },
  {
   "cell_type": "code",
   "execution_count": null,
   "metadata": {
    "colab": {},
    "colab_type": "code",
    "id": "ZQssN1Ibbv-R",
    "outputId": "249e8cda-ce99-4756-a060-bcabb6f06542"
   },
   "outputs": [
    {
     "data": {
      "text/html": [
       "<div>\n",
       "<style scoped>\n",
       "    .dataframe tbody tr th:only-of-type {\n",
       "        vertical-align: middle;\n",
       "    }\n",
       "\n",
       "    .dataframe tbody tr th {\n",
       "        vertical-align: top;\n",
       "    }\n",
       "\n",
       "    .dataframe thead th {\n",
       "        text-align: right;\n",
       "    }\n",
       "</style>\n",
       "<table border=\"1\" class=\"dataframe\">\n",
       "  <thead>\n",
       "    <tr style=\"text-align: right;\">\n",
       "      <th></th>\n",
       "      <th>PHYSHLTH</th>\n",
       "      <th>AGE</th>\n",
       "      <th>QLREST2</th>\n",
       "    </tr>\n",
       "  </thead>\n",
       "  <tbody>\n",
       "    <tr>\n",
       "      <th>9633</th>\n",
       "      <td>3.0</td>\n",
       "      <td>52.0</td>\n",
       "      <td>5.0</td>\n",
       "    </tr>\n",
       "    <tr>\n",
       "      <th>9634</th>\n",
       "      <td>0.0</td>\n",
       "      <td>62.0</td>\n",
       "      <td>3.0</td>\n",
       "    </tr>\n",
       "    <tr>\n",
       "      <th>9645</th>\n",
       "      <td>0.0</td>\n",
       "      <td>51.0</td>\n",
       "      <td>1.0</td>\n",
       "    </tr>\n",
       "    <tr>\n",
       "      <th>9650</th>\n",
       "      <td>0.0</td>\n",
       "      <td>73.0</td>\n",
       "      <td>0.0</td>\n",
       "    </tr>\n",
       "    <tr>\n",
       "      <th>9651</th>\n",
       "      <td>0.0</td>\n",
       "      <td>44.0</td>\n",
       "      <td>3.0</td>\n",
       "    </tr>\n",
       "  </tbody>\n",
       "</table>\n",
       "</div>"
      ],
      "text/plain": [
       "      PHYSHLTH   AGE  QLREST2\n",
       "9633       3.0  52.0      5.0\n",
       "9634       0.0  62.0      3.0\n",
       "9645       0.0  51.0      1.0\n",
       "9650       0.0  73.0      0.0\n",
       "9651       0.0  44.0      3.0"
      ]
     },
     "execution_count": 12,
     "metadata": {
      "tags": []
     },
     "output_type": "execute_result"
    }
   ],
   "source": [
    "df1.head()"
   ]
  },
  {
   "cell_type": "code",
   "execution_count": null,
   "metadata": {
    "colab": {},
    "colab_type": "code",
    "id": "TZYzGAdYbv-Z",
    "outputId": "f77eb009-b359-4441-b966-1d5992f40d29"
   },
   "outputs": [
    {
     "data": {
      "text/html": [
       "<div>\n",
       "<style scoped>\n",
       "    .dataframe tbody tr th:only-of-type {\n",
       "        vertical-align: middle;\n",
       "    }\n",
       "\n",
       "    .dataframe tbody tr th {\n",
       "        vertical-align: top;\n",
       "    }\n",
       "\n",
       "    .dataframe thead th {\n",
       "        text-align: right;\n",
       "    }\n",
       "</style>\n",
       "<table border=\"1\" class=\"dataframe\">\n",
       "  <thead>\n",
       "    <tr style=\"text-align: right;\">\n",
       "      <th></th>\n",
       "      <th>missing counts</th>\n",
       "    </tr>\n",
       "  </thead>\n",
       "  <tbody>\n",
       "    <tr>\n",
       "      <th>INCOME2</th>\n",
       "      <td>4658</td>\n",
       "    </tr>\n",
       "    <tr>\n",
       "      <th>EMTSUPRT</th>\n",
       "      <td>671</td>\n",
       "    </tr>\n",
       "    <tr>\n",
       "      <th>CHECKUP1</th>\n",
       "      <td>365</td>\n",
       "    </tr>\n",
       "    <tr>\n",
       "      <th>LSATISFY</th>\n",
       "      <td>285</td>\n",
       "    </tr>\n",
       "    <tr>\n",
       "      <th>MEDCOST</th>\n",
       "      <td>87</td>\n",
       "    </tr>\n",
       "    <tr>\n",
       "      <th>PERSDOC2</th>\n",
       "      <td>84</td>\n",
       "    </tr>\n",
       "    <tr>\n",
       "      <th>HLTHPLAN</th>\n",
       "      <td>80</td>\n",
       "    </tr>\n",
       "    <tr>\n",
       "      <th>EDUCA</th>\n",
       "      <td>67</td>\n",
       "    </tr>\n",
       "    <tr>\n",
       "      <th>EXERANY2</th>\n",
       "      <td>42</td>\n",
       "    </tr>\n",
       "  </tbody>\n",
       "</table>\n",
       "</div>"
      ],
      "text/plain": [
       "          missing counts\n",
       "INCOME2             4658\n",
       "EMTSUPRT             671\n",
       "CHECKUP1             365\n",
       "LSATISFY             285\n",
       "MEDCOST               87\n",
       "PERSDOC2              84\n",
       "HLTHPLAN              80\n",
       "EDUCA                 67\n",
       "EXERANY2              42"
      ]
     },
     "execution_count": 13,
     "metadata": {
      "tags": []
     },
     "output_type": "execute_result"
    }
   ],
   "source": [
    "#list missing values\n",
    "nas=pd.DataFrame(df2.isnull().sum().sort_values(ascending=False),columns = ['missing counts'])\n",
    "pos = nas['missing counts'] > 0\n",
    "nas[pos]\n"
   ]
  },
  {
   "cell_type": "code",
   "execution_count": null,
   "metadata": {
    "colab": {},
    "colab_type": "code",
    "id": "OmQhPiqfbv-f"
   },
   "outputs": [],
   "source": [
    "#get dummy variables\n",
    "#df2=pd.get_dummies(df2_new)"
   ]
  },
  {
   "cell_type": "code",
   "execution_count": null,
   "metadata": {
    "colab": {},
    "colab_type": "code",
    "id": "mWmRjAfibv-h",
    "outputId": "ba0e8616-1161-4d56-e2d1-89af7cf2e843"
   },
   "outputs": [
    {
     "data": {
      "text/plain": [
       "Index(['HLTHPLAN', 'PERSDOC2', 'MEDCOST', 'CHECKUP1', 'EXERANY2', 'SMOKDAY2',\n",
       "       'EDUCA', 'INCOME2', 'SEX', 'EMTSUPRT', 'LSATISFY', 'ADANXEV',\n",
       "       'ADDEPEV'],\n",
       "      dtype='object')"
      ]
     },
     "execution_count": 19,
     "metadata": {
      "tags": []
     },
     "output_type": "execute_result"
    }
   ],
   "source": [
    "#new column names with dummies\n",
    "df2.columns"
   ]
  },
  {
   "cell_type": "code",
   "execution_count": null,
   "metadata": {
    "colab": {},
    "colab_type": "code",
    "id": "CvpinwNIbv-k",
    "outputId": "b6ae85e9-8fb0-4420-8ced-6fc8ae538c01"
   },
   "outputs": [
    {
     "data": {
      "text/plain": [
       "<matplotlib.axes._subplots.AxesSubplot at 0x184023acb88>"
      ]
     },
     "execution_count": 34,
     "metadata": {
      "tags": []
     },
     "output_type": "execute_result"
    },
    {
     "data": {
      "image/png": "[encoded data removed]",
      "text/plain": [
       "<Figure size 432x288 with 1 Axes>"
      ]
     },
     "metadata": {
      "needs_background": "light",
      "tags": []
     },
     "output_type": "display_data"
    }
   ],
   "source": [
    "#work with df2 for categorical EDA\n",
    "df2['HLTHPLAN'].value_counts().plot(kind='bar')\n"
   ]
  },
  {
   "cell_type": "code",
   "execution_count": null,
   "metadata": {
    "colab": {},
    "colab_type": "code",
    "id": "zHyRb_UmmHIa",
    "outputId": "5ddc2128-7a65-4d1d-a5c9-182b2d9c8421"
   },
   "outputs": [
    {
     "data": {
      "text/plain": [
       "<matplotlib.axes._subplots.AxesSubplot at 0x184024228c8>"
      ]
     },
     "execution_count": 35,
     "metadata": {
      "tags": []
     },
     "output_type": "execute_result"
    },
    {
     "data": {
      "image/png": "[encoded data removed]",
      "text/plain": [
       "<Figure size 432x288 with 1 Axes>"
      ]
     },
     "metadata": {
      "needs_background": "light",
      "tags": []
     },
     "output_type": "display_data"
    }
   ],
   "source": [
    "#work with df2 for categorical EDA\n",
    "df2['PERSDOC2'].value_counts().plot(kind='bar')"
   ]
  },
  {
   "cell_type": "code",
   "execution_count": null,
   "metadata": {
    "colab": {},
    "colab_type": "code",
    "id": "B9x7CNvRmHIe",
    "outputId": "92e965b9-1822-459e-fc3d-cfd81fa29483"
   },
   "outputs": [
    {
     "data": {
      "text/plain": [
       "<matplotlib.axes._subplots.AxesSubplot at 0x1840248cd48>"
      ]
     },
     "execution_count": 36,
     "metadata": {
      "tags": []
     },
     "output_type": "execute_result"
    },
    {
     "data": {
      "image/png": "[encoded data removed]",
      "text/plain": [
       "<Figure size 432x288 with 1 Axes>"
      ]
     },
     "metadata": {
      "needs_background": "light",
      "tags": []
     },
     "output_type": "display_data"
    }
   ],
   "source": [
    "df2['MEDCOST'].value_counts().plot(kind='bar')"
   ]
  },
  {
   "cell_type": "code",
   "execution_count": null,
   "metadata": {
    "colab": {},
    "colab_type": "code",
    "id": "DVD71uITmHIi",
    "outputId": "4a7e69e4-6aa5-41ca-f0bc-78dae29506a2"
   },
   "outputs": [
    {
     "data": {
      "text/plain": [
       "<matplotlib.axes._subplots.AxesSubplot at 0x18402483848>"
      ]
     },
     "execution_count": 37,
     "metadata": {
      "tags": []
     },
     "output_type": "execute_result"
    },
    {
     "data": {
      "image/png": "[encoded data removed]",
      "text/plain": [
       "<Figure size 432x288 with 1 Axes>"
      ]
     },
     "metadata": {
      "needs_background": "light",
      "tags": []
     },
     "output_type": "display_data"
    }
   ],
   "source": [
    "df2['CHECKUP1'].value_counts().plot(kind='bar')"
   ]
  },
  {
   "cell_type": "code",
   "execution_count": null,
   "metadata": {
    "colab": {},
    "colab_type": "code",
    "id": "oYT3rOOhmHIl",
    "outputId": "b1cdd5ef-b570-4c79-9fa4-816f8509cbd9"
   },
   "outputs": [
    {
     "data": {
      "text/plain": [
       "<matplotlib.axes._subplots.AxesSubplot at 0x18402551948>"
      ]
     },
     "execution_count": 38,
     "metadata": {
      "tags": []
     },
     "output_type": "execute_result"
    },
    {
     "data": {
      "image/png": "[encoded data removed]",
      "text/plain": [
       "<Figure size 432x288 with 1 Axes>"
      ]
     },
     "metadata": {
      "needs_background": "light",
      "tags": []
     },
     "output_type": "display_data"
    }
   ],
   "source": [
    "df2['EXERANY2'].value_counts().plot(kind='bar')"
   ]
  },
  {
   "cell_type": "code",
   "execution_count": null,
   "metadata": {
    "colab": {},
    "colab_type": "code",
    "id": "k9Z-O_K_mHIo",
    "outputId": "5deee603-ece6-4665-8fbb-2a2b210e5e52"
   },
   "outputs": [
    {
     "data": {
      "text/plain": [
       "<matplotlib.axes._subplots.AxesSubplot at 0x184025a8148>"
      ]
     },
     "execution_count": 39,
     "metadata": {
      "tags": []
     },
     "output_type": "execute_result"
    },
    {
     "data": {
      "image/png": "[encoded data removed]",
      "text/plain": [
       "<Figure size 432x288 with 1 Axes>"
      ]
     },
     "metadata": {
      "needs_background": "light",
      "tags": []
     },
     "output_type": "display_data"
    }
   ],
   "source": [
    "df2['SMOKDAY2'].value_counts().plot(kind='bar')"
   ]
  },
  {
   "cell_type": "code",
   "execution_count": null,
   "metadata": {
    "colab": {},
    "colab_type": "code",
    "id": "ivkPkfwPmHIt",
    "outputId": "89d64557-72d8-499e-a906-c4964365c3a6"
   },
   "outputs": [
    {
     "data": {
      "text/plain": [
       "<matplotlib.axes._subplots.AxesSubplot at 0x18402603088>"
      ]
     },
     "execution_count": 40,
     "metadata": {
      "tags": []
     },
     "output_type": "execute_result"
    },
    {
     "data": {
      "image/png": "[encoded data removed]",
      "text/plain": [
       "<Figure size 432x288 with 1 Axes>"
      ]
     },
     "metadata": {
      "needs_background": "light",
      "tags": []
     },
     "output_type": "display_data"
    }
   ],
   "source": [
    "df2['EDUCA'].value_counts().plot(kind='bar')"
   ]
  },
  {
   "cell_type": "code",
   "execution_count": null,
   "metadata": {
    "colab": {},
    "colab_type": "code",
    "id": "jtSrzpEgmHIy",
    "outputId": "1b39b2ae-e831-4a26-8f9b-62fd99981b7e"
   },
   "outputs": [
    {
     "data": {
      "text/plain": [
       "<matplotlib.axes._subplots.AxesSubplot at 0x18402689488>"
      ]
     },
     "execution_count": 41,
     "metadata": {
      "tags": []
     },
     "output_type": "execute_result"
    },
    {
     "data": {
      "image/png": "[encoded data removed]",
      "text/plain": [
       "<Figure size 432x288 with 1 Axes>"
      ]
     },
     "metadata": {
      "needs_background": "light",
      "tags": []
     },
     "output_type": "display_data"
    }
   ],
   "source": [
    "df2['INCOME2'].value_counts().plot(kind='bar')"
   ]
  },
  {
   "cell_type": "code",
   "execution_count": null,
   "metadata": {
    "colab": {},
    "colab_type": "code",
    "id": "tUgrGIPImHI1",
    "outputId": "6581316a-3c63-4d65-8bcf-714c0d93fc61"
   },
   "outputs": [
    {
     "data": {
      "text/plain": [
       "<matplotlib.axes._subplots.AxesSubplot at 0x184022b71c8>"
      ]
     },
     "execution_count": 42,
     "metadata": {
      "tags": []
     },
     "output_type": "execute_result"
    },
    {
     "data": {
      "image/png": "[encoded data removed]",
      "text/plain": [
       "<Figure size 432x288 with 1 Axes>"
      ]
     },
     "metadata": {
      "needs_background": "light",
      "tags": []
     },
     "output_type": "display_data"
    }
   ],
   "source": [
    "df2['SEX'].value_counts().plot(kind='bar')"
   ]
  },
  {
   "cell_type": "code",
   "execution_count": null,
   "metadata": {
    "colab": {},
    "colab_type": "code",
    "id": "rNz1hQeRmHI8",
    "outputId": "b2b901ec-4159-457b-fa28-3d49f3d5bf3d"
   },
   "outputs": [
    {
     "data": {
      "text/plain": [
       "<matplotlib.axes._subplots.AxesSubplot at 0x18402761d08>"
      ]
     },
     "execution_count": 43,
     "metadata": {
      "tags": []
     },
     "output_type": "execute_result"
    },
    {
     "data": {
      "image/png": "[encoded data removed]",
      "text/plain": [
       "<Figure size 432x288 with 1 Axes>"
      ]
     },
     "metadata": {
      "needs_background": "light",
      "tags": []
     },
     "output_type": "display_data"
    }
   ],
   "source": [
    "df2['EMTSUPRT'].value_counts().plot(kind='bar')"
   ]
  },
  {
   "cell_type": "code",
   "execution_count": null,
   "metadata": {
    "colab": {},
    "colab_type": "code",
    "id": "z9zNbazQmHI_",
    "outputId": "fd1223e0-5358-4ce6-d7db-e1e4ee3ac2dc"
   },
   "outputs": [
    {
     "data": {
      "text/plain": [
       "<matplotlib.axes._subplots.AxesSubplot at 0x184027e0888>"
      ]
     },
     "execution_count": 44,
     "metadata": {
      "tags": []
     },
     "output_type": "execute_result"
    },
    {
     "data": {
      "image/png": "[encoded data removed]",
      "text/plain": [
       "<Figure size 432x288 with 1 Axes>"
      ]
     },
     "metadata": {
      "needs_background": "light",
      "tags": []
     },
     "output_type": "display_data"
    }
   ],
   "source": [
    "df2['LSATISFY'].value_counts().plot(kind='bar')"
   ]
  },
  {
   "cell_type": "code",
   "execution_count": null,
   "metadata": {
    "colab": {},
    "colab_type": "code",
    "id": "MvvXwb0rmHJC",
    "outputId": "a684d910-b56f-4fef-fd8a-e0465e610456"
   },
   "outputs": [
    {
     "data": {
      "text/plain": [
       "<matplotlib.axes._subplots.AxesSubplot at 0x1840284c588>"
      ]
     },
     "execution_count": 45,
     "metadata": {
      "tags": []
     },
     "output_type": "execute_result"
    },
    {
     "data": {
      "image/png": "[encoded data removed]",
      "text/plain": [
       "<Figure size 432x288 with 1 Axes>"
      ]
     },
     "metadata": {
      "needs_background": "light",
      "tags": []
     },
     "output_type": "display_data"
    }
   ],
   "source": [
    "df2['ADANXEV'].value_counts().plot(kind='bar')"
   ]
  },
  {
   "cell_type": "code",
   "execution_count": null,
   "metadata": {
    "colab": {},
    "colab_type": "code",
    "id": "lrx5_V4ymHJF",
    "outputId": "425a5aa0-b844-4b0d-df70-c330bda8d27a"
   },
   "outputs": [
    {
     "data": {
      "text/plain": [
       "<matplotlib.axes._subplots.AxesSubplot at 0x184028a9848>"
      ]
     },
     "execution_count": 46,
     "metadata": {
      "tags": []
     },
     "output_type": "execute_result"
    },
    {
     "data": {
      "image/png": "[encoded data removed]",
      "text/plain": [
       "<Figure size 432x288 with 1 Axes>"
      ]
     },
     "metadata": {
      "needs_background": "light",
      "tags": []
     },
     "output_type": "display_data"
    }
   ],
   "source": [
    "df2['ADDEPEV'].value_counts().plot(kind='bar')"
   ]
  },
  {
   "cell_type": "code",
   "execution_count": 73,
   "metadata": {
    "colab": {},
    "colab_type": "code",
    "id": "Wu5dcEklmHJI",
    "outputId": "78923adb-71eb-4445-a14a-5401cbe9899c"
   },
   "outputs": [
    {
     "data": {
      "image/png": "[encoded data removed]",
      "text/plain": [
       "<Figure size 1800x1800 with 2 Axes>"
      ]
     },
     "metadata": {
      "needs_background": "light"
     },
     "output_type": "display_data"
    },
    {
     "data": {
      "image/png": "[encoded data removed]",
      "text/plain": [
       "<Figure size 288x288 with 2 Axes>"
      ]
     },
     "metadata": {
      "needs_background": "light"
     },
     "output_type": "display_data"
    }
   ],
   "source": [
    "import pandas as pd\n",
    "from dython import nominal\n",
    "\n",
    "plt.matshow(df2.corr())\n",
    "plt.xticks(range(len(df2.columns)), df2.columns)\n",
    "plt.yticks(range(len(df2.columns)), df2.columns)\n",
    "plt.colorbar()\n",
    "plt.show()"
   ]
  },
  {
   "cell_type": "code",
   "execution_count": 58,
   "metadata": {},
   "outputs": [
    {
     "data": {
      "text/html": [
       "<div>\n",
       "<style scoped>\n",
       "    .dataframe tbody tr th:only-of-type {\n",
       "        vertical-align: middle;\n",
       "    }\n",
       "\n",
       "    .dataframe tbody tr th {\n",
       "        vertical-align: top;\n",
       "    }\n",
       "\n",
       "    .dataframe thead th {\n",
       "        text-align: right;\n",
       "    }\n",
       "</style>\n",
       "<table border=\"1\" class=\"dataframe\">\n",
       "  <thead>\n",
       "    <tr style=\"text-align: right;\">\n",
       "      <th></th>\n",
       "      <th>column</th>\n",
       "      <th>values</th>\n",
       "      <th>values_count_incna</th>\n",
       "      <th>values_count_nona</th>\n",
       "      <th>num_miss</th>\n",
       "      <th>pct_miss</th>\n",
       "    </tr>\n",
       "  </thead>\n",
       "  <tbody>\n",
       "    <tr>\n",
       "      <th>0</th>\n",
       "      <td>HLTHPLAN</td>\n",
       "      <td>[1.0, 2.0, 0.0]</td>\n",
       "      <td>3</td>\n",
       "      <td>3</td>\n",
       "      <td>0</td>\n",
       "      <td>0.0</td>\n",
       "    </tr>\n",
       "    <tr>\n",
       "      <th>0</th>\n",
       "      <td>PERSDOC2</td>\n",
       "      <td>[3.0, 1.0, 2.0, 0.0]</td>\n",
       "      <td>4</td>\n",
       "      <td>4</td>\n",
       "      <td>0</td>\n",
       "      <td>0.0</td>\n",
       "    </tr>\n",
       "    <tr>\n",
       "      <th>0</th>\n",
       "      <td>MEDCOST</td>\n",
       "      <td>[2.0, 1.0, 0.0]</td>\n",
       "      <td>3</td>\n",
       "      <td>3</td>\n",
       "      <td>0</td>\n",
       "      <td>0.0</td>\n",
       "    </tr>\n",
       "    <tr>\n",
       "      <th>0</th>\n",
       "      <td>CHECKUP1</td>\n",
       "      <td>[3.0, 1.0, 8.0, 2.0, 4.0, 0.0]</td>\n",
       "      <td>6</td>\n",
       "      <td>6</td>\n",
       "      <td>0</td>\n",
       "      <td>0.0</td>\n",
       "    </tr>\n",
       "    <tr>\n",
       "      <th>0</th>\n",
       "      <td>EXERANY2</td>\n",
       "      <td>[1.0, 2.0, 0.0]</td>\n",
       "      <td>3</td>\n",
       "      <td>3</td>\n",
       "      <td>0</td>\n",
       "      <td>0.0</td>\n",
       "    </tr>\n",
       "    <tr>\n",
       "      <th>0</th>\n",
       "      <td>SMOKDAY2</td>\n",
       "      <td>[3.0, 2.0, 1.0]</td>\n",
       "      <td>3</td>\n",
       "      <td>3</td>\n",
       "      <td>0</td>\n",
       "      <td>0.0</td>\n",
       "    </tr>\n",
       "    <tr>\n",
       "      <th>0</th>\n",
       "      <td>EDUCA</td>\n",
       "      <td>[6.0, 4.0, 5.0, 2.0, 3.0, 1.0, 0.0]</td>\n",
       "      <td>7</td>\n",
       "      <td>7</td>\n",
       "      <td>0</td>\n",
       "      <td>0.0</td>\n",
       "    </tr>\n",
       "    <tr>\n",
       "      <th>0</th>\n",
       "      <td>INCOME2</td>\n",
       "      <td>[7.0, 6.0, 8.0, 4.0, 5.0, 1.0, 0.0, 3.0, 2.0]</td>\n",
       "      <td>9</td>\n",
       "      <td>9</td>\n",
       "      <td>0</td>\n",
       "      <td>0.0</td>\n",
       "    </tr>\n",
       "    <tr>\n",
       "      <th>0</th>\n",
       "      <td>SEX</td>\n",
       "      <td>[1.0, 2.0]</td>\n",
       "      <td>2</td>\n",
       "      <td>2</td>\n",
       "      <td>0</td>\n",
       "      <td>0.0</td>\n",
       "    </tr>\n",
       "    <tr>\n",
       "      <th>0</th>\n",
       "      <td>EMTSUPRT</td>\n",
       "      <td>[2.0, 1.0, 3.0, 5.0, 4.0, 0.0]</td>\n",
       "      <td>6</td>\n",
       "      <td>6</td>\n",
       "      <td>0</td>\n",
       "      <td>0.0</td>\n",
       "    </tr>\n",
       "    <tr>\n",
       "      <th>0</th>\n",
       "      <td>LSATISFY</td>\n",
       "      <td>[2.0, 4.0, 1.0, 3.0, 0.0]</td>\n",
       "      <td>5</td>\n",
       "      <td>5</td>\n",
       "      <td>0</td>\n",
       "      <td>0.0</td>\n",
       "    </tr>\n",
       "    <tr>\n",
       "      <th>0</th>\n",
       "      <td>ADANXEV</td>\n",
       "      <td>[2.0, 1.0]</td>\n",
       "      <td>2</td>\n",
       "      <td>2</td>\n",
       "      <td>0</td>\n",
       "      <td>0.0</td>\n",
       "    </tr>\n",
       "    <tr>\n",
       "      <th>0</th>\n",
       "      <td>ADDEPEV</td>\n",
       "      <td>[2.0, 1.0]</td>\n",
       "      <td>2</td>\n",
       "      <td>2</td>\n",
       "      <td>0</td>\n",
       "      <td>0.0</td>\n",
       "    </tr>\n",
       "  </tbody>\n",
       "</table>\n",
       "</div>"
      ],
      "text/plain": [
       "     column                                         values values_count_incna  \\\n",
       "0  HLTHPLAN                                [1.0, 2.0, 0.0]                  3   \n",
       "0  PERSDOC2                           [3.0, 1.0, 2.0, 0.0]                  4   \n",
       "0   MEDCOST                                [2.0, 1.0, 0.0]                  3   \n",
       "0  CHECKUP1                 [3.0, 1.0, 8.0, 2.0, 4.0, 0.0]                  6   \n",
       "0  EXERANY2                                [1.0, 2.0, 0.0]                  3   \n",
       "0  SMOKDAY2                                [3.0, 2.0, 1.0]                  3   \n",
       "0     EDUCA            [6.0, 4.0, 5.0, 2.0, 3.0, 1.0, 0.0]                  7   \n",
       "0   INCOME2  [7.0, 6.0, 8.0, 4.0, 5.0, 1.0, 0.0, 3.0, 2.0]                  9   \n",
       "0       SEX                                     [1.0, 2.0]                  2   \n",
       "0  EMTSUPRT                 [2.0, 1.0, 3.0, 5.0, 4.0, 0.0]                  6   \n",
       "0  LSATISFY                      [2.0, 4.0, 1.0, 3.0, 0.0]                  5   \n",
       "0   ADANXEV                                     [2.0, 1.0]                  2   \n",
       "0   ADDEPEV                                     [2.0, 1.0]                  2   \n",
       "\n",
       "  values_count_nona num_miss  pct_miss  \n",
       "0                 3        0       0.0  \n",
       "0                 4        0       0.0  \n",
       "0                 3        0       0.0  \n",
       "0                 6        0       0.0  \n",
       "0                 3        0       0.0  \n",
       "0                 3        0       0.0  \n",
       "0                 7        0       0.0  \n",
       "0                 9        0       0.0  \n",
       "0                 2        0       0.0  \n",
       "0                 6        0       0.0  \n",
       "0                 5        0       0.0  \n",
       "0                 2        0       0.0  \n",
       "0                 2        0       0.0  "
      ]
     },
     "execution_count": 58,
     "metadata": {},
     "output_type": "execute_result"
    }
   ],
   "source": [
    "df2_stats = pd.DataFrame(columns = ['column', 'values', 'values_count_incna', 'values_count_nona', \n",
    "                                       'num_miss', 'pct_miss'])\n",
    "tmp = pd.DataFrame()\n",
    "\n",
    "for c in df2.columns:\n",
    "    tmp['column'] = [c]\n",
    "    tmp['values'] = [df2[c].unique()]\n",
    "    tmp['values_count_incna'] = len(list(df2[c].unique()))\n",
    "    tmp['values_count_nona'] = int(df2[c].nunique())\n",
    "    tmp['num_miss'] = df2[c].isnull().sum()\n",
    "    tmp['pct_miss'] = (df2[c].isnull().sum()/ len(df2)).round(3)*100\n",
    "    df2_stats = df2_stats.append(tmp)\n",
    "    \n",
    "df2_stats"
   ]
  },
  {
   "cell_type": "code",
   "execution_count": 61,
   "metadata": {},
   "outputs": [
    {
     "data": {
      "image/png": "[encoded data removed]",
      "text/plain": [
       "<Figure size 1080x720 with 6 Axes>"
      ]
     },
     "metadata": {
      "needs_background": "light"
     },
     "output_type": "display_data"
    },
    {
     "data": {
      "image/png": "[encoded data removed]",
      "text/plain": [
       "<Figure size 1080x720 with 6 Axes>"
      ]
     },
     "metadata": {
      "needs_background": "light"
     },
     "output_type": "display_data"
    },
    {
     "data": {
      "image/png": "[encoded data removed]",
      "text/plain": [
       "<Figure size 1080x720 with 6 Axes>"
      ]
     },
     "metadata": {
      "needs_background": "light"
     },
     "output_type": "display_data"
    },
    {
     "data": {
      "image/png": "[encoded data removed]",
      "text/plain": [
       "<Figure size 1080x720 with 6 Axes>"
      ]
     },
     "metadata": {
      "needs_background": "light"
     },
     "output_type": "display_data"
    },
    {
     "data": {
      "text/plain": [
       "<Figure size 1080x720 with 0 Axes>"
      ]
     },
     "metadata": {},
     "output_type": "display_data"
    }
   ],
   "source": [
    "import matplotlib.pyplot as plt\n",
    "ix = 1\n",
    "fig = plt.figure(figsize = (15,10))\n",
    "for c in list(df2.columns):\n",
    "    if ix <= 3:\n",
    "        if c != 'ADDEPEV':\n",
    "            ax1 = fig.add_subplot(2,3,ix)\n",
    "            sns.countplot(data = df2, x=c, ax = ax1)\n",
    "            ax2 = fig.add_subplot(2,3,ix+3)\n",
    "            sns.boxplot(data=df2, x=c, y='ADDEPEV', ax=ax2)\n",
    "            #sns.violinplot(data=ds_cat, x=c, y='SalePrice', ax=ax2)\n",
    "            #sns.swarmplot(data = ds_cat, x=c, y ='SalePrice', color = 'k', alpha = 0.4, ax=ax2)\n",
    "            \n",
    "    ix = ix +1\n",
    "    if ix == 4: \n",
    "        fig = plt.figure(figsize = (15,10))\n",
    "        ix =1"
   ]
  },
  {
   "cell_type": "code",
   "execution_count": 83,
   "metadata": {},
   "outputs": [
    {
     "data": {
      "text/plain": [
       "<seaborn.axisgrid.FacetGrid at 0x1853b5d6c08>"
      ]
     },
     "execution_count": 83,
     "metadata": {},
     "output_type": "execute_result"
    },
    {
     "data": {
      "image/png": "[encoded data removed]",
      "text/plain": [
       "<Figure size 360x360 with 1 Axes>"
      ]
     },
     "metadata": {},
     "output_type": "display_data"
    }
   ],
   "source": [
    "sns.catplot(x=\"ADANXEV\", y=\"ADDEPEV\",\n",
    "            marker=\"o\", linestyle=\"-\",\n",
    "            kind=\"point\", data=df2)"
   ]
  },
  {
   "cell_type": "code",
   "execution_count": 84,
   "metadata": {},
   "outputs": [
    {
     "data": {
      "text/plain": [
       "<seaborn.axisgrid.FacetGrid at 0x1853b7905c8>"
      ]
     },
     "execution_count": 84,
     "metadata": {},
     "output_type": "execute_result"
    },
    {
     "data": {
      "image/png": "[encoded data removed]",
      "text/plain": [
       "<Figure size 360x360 with 1 Axes>"
      ]
     },
     "metadata": {},
     "output_type": "display_data"
    }
   ],
   "source": [
    "sns.catplot(x=\"LSATISFY\", y=\"ADDEPEV\",\n",
    "            marker=\"o\", linestyle=\"-\",\n",
    "            kind=\"point\", data=df2)"
   ]
  },
  {
   "cell_type": "code",
   "execution_count": 64,
   "metadata": {},
   "outputs": [
    {
     "data": {
      "text/html": [
       "<div>\n",
       "<style scoped>\n",
       "    .dataframe tbody tr th:only-of-type {\n",
       "        vertical-align: middle;\n",
       "    }\n",
       "\n",
       "    .dataframe tbody tr th {\n",
       "        vertical-align: top;\n",
       "    }\n",
       "\n",
       "    .dataframe thead th {\n",
       "        text-align: right;\n",
       "    }\n",
       "</style>\n",
       "<table border=\"1\" class=\"dataframe\">\n",
       "  <thead>\n",
       "    <tr style=\"text-align: right;\">\n",
       "      <th></th>\n",
       "      <th>PHYSHLTH</th>\n",
       "      <th>AGE</th>\n",
       "      <th>QLREST2</th>\n",
       "    </tr>\n",
       "  </thead>\n",
       "  <tbody>\n",
       "    <tr>\n",
       "      <th>count</th>\n",
       "      <td>35586.000000</td>\n",
       "      <td>36217.000000</td>\n",
       "      <td>35803.000000</td>\n",
       "    </tr>\n",
       "    <tr>\n",
       "      <th>mean</th>\n",
       "      <td>5.603889</td>\n",
       "      <td>58.351437</td>\n",
       "      <td>8.007569</td>\n",
       "    </tr>\n",
       "    <tr>\n",
       "      <th>std</th>\n",
       "      <td>10.070900</td>\n",
       "      <td>15.225734</td>\n",
       "      <td>10.504844</td>\n",
       "    </tr>\n",
       "    <tr>\n",
       "      <th>min</th>\n",
       "      <td>0.000000</td>\n",
       "      <td>18.000000</td>\n",
       "      <td>0.000000</td>\n",
       "    </tr>\n",
       "    <tr>\n",
       "      <th>25%</th>\n",
       "      <td>0.000000</td>\n",
       "      <td>49.000000</td>\n",
       "      <td>0.000000</td>\n",
       "    </tr>\n",
       "    <tr>\n",
       "      <th>50%</th>\n",
       "      <td>0.000000</td>\n",
       "      <td>60.000000</td>\n",
       "      <td>3.000000</td>\n",
       "    </tr>\n",
       "    <tr>\n",
       "      <th>75%</th>\n",
       "      <td>5.000000</td>\n",
       "      <td>69.000000</td>\n",
       "      <td>15.000000</td>\n",
       "    </tr>\n",
       "    <tr>\n",
       "      <th>max</th>\n",
       "      <td>30.000000</td>\n",
       "      <td>99.000000</td>\n",
       "      <td>30.000000</td>\n",
       "    </tr>\n",
       "  </tbody>\n",
       "</table>\n",
       "</div>"
      ],
      "text/plain": [
       "           PHYSHLTH           AGE       QLREST2\n",
       "count  35586.000000  36217.000000  35803.000000\n",
       "mean       5.603889     58.351437      8.007569\n",
       "std       10.070900     15.225734     10.504844\n",
       "min        0.000000     18.000000      0.000000\n",
       "25%        0.000000     49.000000      0.000000\n",
       "50%        0.000000     60.000000      3.000000\n",
       "75%        5.000000     69.000000     15.000000\n",
       "max       30.000000     99.000000     30.000000"
      ]
     },
     "execution_count": 64,
     "metadata": {},
     "output_type": "execute_result"
    }
   ],
   "source": [
    "df1.describe()"
   ]
  },
  {
   "cell_type": "code",
   "execution_count": 72,
   "metadata": {},
   "outputs": [
    {
     "data": {
      "image/png": "[encoded data removed]",
      "text/plain": [
       "<Figure size 288x288 with 2 Axes>"
      ]
     },
     "metadata": {
      "needs_background": "light"
     },
     "output_type": "display_data"
    }
   ],
   "source": [
    "plt.matshow(df1.corr())\n",
    "plt.xticks(range(len(df1.columns)), df1.columns)\n",
    "plt.yticks(range(len(df1.columns)), df1.columns)\n",
    "plt.colorbar()\n",
    "plt.show()\n"
   ]
  },
  {
   "cell_type": "code",
   "execution_count": 74,
   "metadata": {},
   "outputs": [
    {
     "data": {
      "image/png": "[encoded data removed]",
      "text/plain": [
       "<Figure size 432x288 with 1 Axes>"
      ]
     },
     "metadata": {},
     "output_type": "display_data"
    }
   ],
   "source": [
    "import seaborn as sns\n",
    "sns.set(style=\"whitegrid\")\n",
    "\n",
    "ax = sns.boxplot(x=df1[\"PHYSHLTH\"])"
   ]
  },
  {
   "cell_type": "code",
   "execution_count": 75,
   "metadata": {},
   "outputs": [
    {
     "data": {
      "image/png": "[encoded data removed]",
      "text/plain": [
       "<Figure size 432x288 with 1 Axes>"
      ]
     },
     "metadata": {},
     "output_type": "display_data"
    }
   ],
   "source": [
    "sns.set(style=\"whitegrid\")\n",
    "\n",
    "ax = sns.boxplot(x=df1[\"AGE\"])"
   ]
  },
  {
   "cell_type": "code",
   "execution_count": 76,
   "metadata": {},
   "outputs": [
    {
     "data": {
      "image/png": "[encoded data removed]",
      "text/plain": [
       "<Figure size 432x288 with 1 Axes>"
      ]
     },
     "metadata": {},
     "output_type": "display_data"
    }
   ],
   "source": [
    "sns.set(style=\"whitegrid\")\n",
    "\n",
    "ax = sns.boxplot(x=df1[\"QLREST2\"])"
   ]
  },
  {
   "cell_type": "code",
   "execution_count": 79,
   "metadata": {},
   "outputs": [
    {
     "data": {
      "text/html": [
       "<div>\n",
       "<style scoped>\n",
       "    .dataframe tbody tr th:only-of-type {\n",
       "        vertical-align: middle;\n",
       "    }\n",
       "\n",
       "    .dataframe tbody tr th {\n",
       "        vertical-align: top;\n",
       "    }\n",
       "\n",
       "    .dataframe thead th {\n",
       "        text-align: right;\n",
       "    }\n",
       "</style>\n",
       "<table border=\"1\" class=\"dataframe\">\n",
       "  <thead>\n",
       "    <tr style=\"text-align: right;\">\n",
       "      <th></th>\n",
       "      <th>PHYSHLTH</th>\n",
       "      <th>AGE</th>\n",
       "      <th>QLREST2</th>\n",
       "      <th>depression</th>\n",
       "    </tr>\n",
       "  </thead>\n",
       "  <tbody>\n",
       "    <tr>\n",
       "      <th>9633</th>\n",
       "      <td>3.0</td>\n",
       "      <td>52.0</td>\n",
       "      <td>5.0</td>\n",
       "      <td>2.0</td>\n",
       "    </tr>\n",
       "    <tr>\n",
       "      <th>9634</th>\n",
       "      <td>0.0</td>\n",
       "      <td>62.0</td>\n",
       "      <td>3.0</td>\n",
       "      <td>2.0</td>\n",
       "    </tr>\n",
       "    <tr>\n",
       "      <th>9645</th>\n",
       "      <td>0.0</td>\n",
       "      <td>51.0</td>\n",
       "      <td>1.0</td>\n",
       "      <td>2.0</td>\n",
       "    </tr>\n",
       "    <tr>\n",
       "      <th>9650</th>\n",
       "      <td>0.0</td>\n",
       "      <td>73.0</td>\n",
       "      <td>0.0</td>\n",
       "      <td>2.0</td>\n",
       "    </tr>\n",
       "    <tr>\n",
       "      <th>9651</th>\n",
       "      <td>0.0</td>\n",
       "      <td>44.0</td>\n",
       "      <td>3.0</td>\n",
       "      <td>1.0</td>\n",
       "    </tr>\n",
       "  </tbody>\n",
       "</table>\n",
       "</div>"
      ],
      "text/plain": [
       "      PHYSHLTH   AGE  QLREST2  depression\n",
       "9633       3.0  52.0      5.0         2.0\n",
       "9634       0.0  62.0      3.0         2.0\n",
       "9645       0.0  51.0      1.0         2.0\n",
       "9650       0.0  73.0      0.0         2.0\n",
       "9651       0.0  44.0      3.0         1.0"
      ]
     },
     "execution_count": 79,
     "metadata": {},
     "output_type": "execute_result"
    }
   ],
   "source": [
    "depression=df2['ADDEPEV']\n",
    "df1['depression']=depression\n",
    "df1.head()\n"
   ]
  },
  {
   "cell_type": "code",
   "execution_count": 80,
   "metadata": {},
   "outputs": [
    {
     "data": {
      "image/png": "[encoded data removed]",
      "text/plain": [
       "<Figure size 288x288 with 2 Axes>"
      ]
     },
     "metadata": {},
     "output_type": "display_data"
    }
   ],
   "source": [
    "plt.matshow(df1.corr())\n",
    "plt.xticks(range(len(df1.columns)), df1.columns)\n",
    "plt.yticks(range(len(df1.columns)), df1.columns)\n",
    "plt.colorbar()\n",
    "plt.show()"
   ]
  },
  {
   "cell_type": "code",
   "execution_count": 85,
   "metadata": {},
   "outputs": [],
   "source": [
    "import pandas as pd\n",
    "import numpy as np\n",
    "from sklearn import preprocessing\n",
    "import matplotlib.pyplot as plt \n",
    "plt.rc(\"font\", size=14)\n",
    "from sklearn.linear_model import LogisticRegression\n",
    "from sklearn.model_selection import train_test_split\n",
    "import seaborn as sns\n",
    "sns.set(style=\"white\")\n",
    "sns.set(style=\"whitegrid\", color_codes=True)"
   ]
  },
  {
   "cell_type": "code",
   "execution_count": 86,
   "metadata": {},
   "outputs": [],
   "source": [
    "df2new=pd.get_dummies(df2)"
   ]
  },
  {
   "cell_type": "code",
   "execution_count": 89,
   "metadata": {},
   "outputs": [],
   "source": [
    "import matplotlib.pyplot as plt\n",
    "import numpy as np\n",
    "from sklearn.linear_model import LogisticRegression\n",
    "from sklearn.metrics import classification_report, confusion_matrix"
   ]
  },
  {
   "cell_type": "code",
   "execution_count": null,
   "metadata": {},
   "outputs": [],
   "source": []
  },
  {
   "cell_type": "code",
   "execution_count": 92,
   "metadata": {},
   "outputs": [
    {
     "data": {
      "text/plain": [
       "array([[-1.48658532, -0.25126477, -1.44359266, -0.09992667, -1.07827234,\n",
       "        -0.39486606, -0.55717316, -0.04265737, -1.3689515 , -0.26248683,\n",
       "        -0.8662766 ,  0.04554506, 14.22725505]])"
      ]
     },
     "execution_count": 92,
     "metadata": {},
     "output_type": "execute_result"
    }
   ],
   "source": [
    "model = LogisticRegression(solver='liblinear', random_state=0)\n",
    "model.fit(df2, depression)\n",
    "model.intercept_\n",
    "\n",
    "model.coef_"
   ]
  },
  {
   "cell_type": "code",
   "execution_count": 96,
   "metadata": {},
   "outputs": [
    {
     "data": {
      "text/plain": [
       "<matplotlib.axes._subplots.AxesSubplot at 0x184156a3848>"
      ]
     },
     "execution_count": 96,
     "metadata": {},
     "output_type": "execute_result"
    },
    {
     "data": {
      "image/png": "[encoded data removed]",
      "text/plain": [
       "<Figure size 432x288 with 1 Axes>"
      ]
     },
     "metadata": {},
     "output_type": "display_data"
    }
   ],
   "source": [
    "sns.countplot(x='ADDEPEV',hue='ADANXEV',data=df2)"
   ]
  },
  {
   "cell_type": "code",
   "execution_count": 97,
   "metadata": {},
   "outputs": [
    {
     "data": {
      "text/plain": [
       "<matplotlib.axes._subplots.AxesSubplot at 0x1853b998548>"
      ]
     },
     "execution_count": 97,
     "metadata": {},
     "output_type": "execute_result"
    },
    {
     "data": {
      "image/png": "[encoded data removed]",
      "text/plain": [
       "<Figure size 432x288 with 1 Axes>"
      ]
     },
     "metadata": {},
     "output_type": "display_data"
    }
   ],
   "source": [
    "sns.countplot(x='ADDEPEV',hue='LSATISFY',data=df2)"
   ]
  },
  {
   "cell_type": "code",
   "execution_count": 99,
   "metadata": {},
   "outputs": [
    {
     "data": {
      "text/html": [
       "<div>\n",
       "<style scoped>\n",
       "    .dataframe tbody tr th:only-of-type {\n",
       "        vertical-align: middle;\n",
       "    }\n",
       "\n",
       "    .dataframe tbody tr th {\n",
       "        vertical-align: top;\n",
       "    }\n",
       "\n",
       "    .dataframe thead th {\n",
       "        text-align: right;\n",
       "    }\n",
       "</style>\n",
       "<table border=\"1\" class=\"dataframe\">\n",
       "  <thead>\n",
       "    <tr style=\"text-align: right;\">\n",
       "      <th></th>\n",
       "      <th>HLTHPLAN</th>\n",
       "      <th>PERSDOC2</th>\n",
       "      <th>MEDCOST</th>\n",
       "      <th>CHECKUP1</th>\n",
       "      <th>EXERANY2</th>\n",
       "      <th>SMOKDAY2</th>\n",
       "      <th>EDUCA</th>\n",
       "      <th>INCOME2</th>\n",
       "      <th>SEX</th>\n",
       "      <th>EMTSUPRT</th>\n",
       "      <th>LSATISFY</th>\n",
       "      <th>ADANXEV</th>\n",
       "      <th>ADDEPEV</th>\n",
       "      <th>PHYSHLTH</th>\n",
       "      <th>AGE</th>\n",
       "      <th>QLREST2</th>\n",
       "      <th>depression</th>\n",
       "    </tr>\n",
       "  </thead>\n",
       "  <tbody>\n",
       "    <tr>\n",
       "      <th>9633</th>\n",
       "      <td>1.0</td>\n",
       "      <td>3.0</td>\n",
       "      <td>2.0</td>\n",
       "      <td>3.0</td>\n",
       "      <td>1.0</td>\n",
       "      <td>3.0</td>\n",
       "      <td>6.0</td>\n",
       "      <td>7.0</td>\n",
       "      <td>1.0</td>\n",
       "      <td>2.0</td>\n",
       "      <td>2.0</td>\n",
       "      <td>2.0</td>\n",
       "      <td>2.0</td>\n",
       "      <td>3.0</td>\n",
       "      <td>52.0</td>\n",
       "      <td>5.0</td>\n",
       "      <td>2.0</td>\n",
       "    </tr>\n",
       "    <tr>\n",
       "      <th>9634</th>\n",
       "      <td>1.0</td>\n",
       "      <td>1.0</td>\n",
       "      <td>2.0</td>\n",
       "      <td>1.0</td>\n",
       "      <td>1.0</td>\n",
       "      <td>3.0</td>\n",
       "      <td>4.0</td>\n",
       "      <td>6.0</td>\n",
       "      <td>2.0</td>\n",
       "      <td>1.0</td>\n",
       "      <td>4.0</td>\n",
       "      <td>2.0</td>\n",
       "      <td>2.0</td>\n",
       "      <td>0.0</td>\n",
       "      <td>62.0</td>\n",
       "      <td>3.0</td>\n",
       "      <td>2.0</td>\n",
       "    </tr>\n",
       "    <tr>\n",
       "      <th>9645</th>\n",
       "      <td>1.0</td>\n",
       "      <td>1.0</td>\n",
       "      <td>2.0</td>\n",
       "      <td>8.0</td>\n",
       "      <td>1.0</td>\n",
       "      <td>2.0</td>\n",
       "      <td>6.0</td>\n",
       "      <td>8.0</td>\n",
       "      <td>2.0</td>\n",
       "      <td>1.0</td>\n",
       "      <td>1.0</td>\n",
       "      <td>2.0</td>\n",
       "      <td>2.0</td>\n",
       "      <td>0.0</td>\n",
       "      <td>51.0</td>\n",
       "      <td>1.0</td>\n",
       "      <td>2.0</td>\n",
       "    </tr>\n",
       "    <tr>\n",
       "      <th>9650</th>\n",
       "      <td>1.0</td>\n",
       "      <td>2.0</td>\n",
       "      <td>2.0</td>\n",
       "      <td>1.0</td>\n",
       "      <td>1.0</td>\n",
       "      <td>3.0</td>\n",
       "      <td>6.0</td>\n",
       "      <td>4.0</td>\n",
       "      <td>2.0</td>\n",
       "      <td>3.0</td>\n",
       "      <td>1.0</td>\n",
       "      <td>2.0</td>\n",
       "      <td>2.0</td>\n",
       "      <td>0.0</td>\n",
       "      <td>73.0</td>\n",
       "      <td>0.0</td>\n",
       "      <td>2.0</td>\n",
       "    </tr>\n",
       "    <tr>\n",
       "      <th>9651</th>\n",
       "      <td>1.0</td>\n",
       "      <td>1.0</td>\n",
       "      <td>2.0</td>\n",
       "      <td>1.0</td>\n",
       "      <td>1.0</td>\n",
       "      <td>1.0</td>\n",
       "      <td>5.0</td>\n",
       "      <td>5.0</td>\n",
       "      <td>2.0</td>\n",
       "      <td>1.0</td>\n",
       "      <td>2.0</td>\n",
       "      <td>1.0</td>\n",
       "      <td>1.0</td>\n",
       "      <td>0.0</td>\n",
       "      <td>44.0</td>\n",
       "      <td>3.0</td>\n",
       "      <td>1.0</td>\n",
       "    </tr>\n",
       "  </tbody>\n",
       "</table>\n",
       "</div>"
      ],
      "text/plain": [
       "      HLTHPLAN  PERSDOC2  MEDCOST  CHECKUP1  EXERANY2  SMOKDAY2  EDUCA  \\\n",
       "9633       1.0       3.0      2.0       3.0       1.0       3.0    6.0   \n",
       "9634       1.0       1.0      2.0       1.0       1.0       3.0    4.0   \n",
       "9645       1.0       1.0      2.0       8.0       1.0       2.0    6.0   \n",
       "9650       1.0       2.0      2.0       1.0       1.0       3.0    6.0   \n",
       "9651       1.0       1.0      2.0       1.0       1.0       1.0    5.0   \n",
       "\n",
       "      INCOME2  SEX  EMTSUPRT  LSATISFY  ADANXEV  ADDEPEV  PHYSHLTH   AGE  \\\n",
       "9633      7.0  1.0       2.0       2.0      2.0      2.0       3.0  52.0   \n",
       "9634      6.0  2.0       1.0       4.0      2.0      2.0       0.0  62.0   \n",
       "9645      8.0  2.0       1.0       1.0      2.0      2.0       0.0  51.0   \n",
       "9650      4.0  2.0       3.0       1.0      2.0      2.0       0.0  73.0   \n",
       "9651      5.0  2.0       1.0       2.0      1.0      1.0       0.0  44.0   \n",
       "\n",
       "      QLREST2  depression  \n",
       "9633      5.0         2.0  \n",
       "9634      3.0         2.0  \n",
       "9645      1.0         2.0  \n",
       "9650      0.0         2.0  \n",
       "9651      3.0         1.0  "
      ]
     },
     "execution_count": 99,
     "metadata": {},
     "output_type": "execute_result"
    }
   ],
   "source": [
    "new = pd.concat([df2new, df1],axis=1)\n",
    "new.head()"
   ]
  },
  {
   "cell_type": "code",
   "execution_count": 119,
   "metadata": {},
   "outputs": [],
   "source": [
    "import pandas as pd\n",
    "from sklearn.model_selection import train_test_split\n",
    "from sklearn.linear_model import LogisticRegression\n",
    "from sklearn import metrics\n",
    "import seaborn as sn\n",
    "import matplotlib.pyplot as plt\n",
    "new=new.dropna()\n",
    "new.columns\n",
    "X=new[['HLTHPLAN', 'PERSDOC2', 'MEDCOST', 'CHECKUP1', 'EXERANY2', 'SMOKDAY2',\n",
    "       'EDUCA', 'INCOME2', 'SEX', 'EMTSUPRT', 'LSATISFY', 'ADANXEV', \n",
    "       'PHYSHLTH', 'AGE', 'QLREST2']]\n",
    "y=new['depression']\n"
   ]
  },
  {
   "cell_type": "code",
   "execution_count": 121,
   "metadata": {},
   "outputs": [],
   "source": [
    "X_train,X_test,y_train,y_test = train_test_split(X,y,test_size=0.25,random_state=0)"
   ]
  },
  {
   "cell_type": "code",
   "execution_count": 122,
   "metadata": {},
   "outputs": [
    {
     "name": "stderr",
     "output_type": "stream",
     "text": [
      "C:\\Users\\meagv\\.conda\\lib\\site-packages\\sklearn\\linear_model\\_logistic.py:940: ConvergenceWarning: lbfgs failed to converge (status=1):\n",
      "STOP: TOTAL NO. of ITERATIONS REACHED LIMIT.\n",
      "\n",
      "Increase the number of iterations (max_iter) or scale the data as shown in:\n",
      "    https://scikit-learn.org/stable/modules/preprocessing.html\n",
      "Please also refer to the documentation for alternative solver options:\n",
      "    https://scikit-learn.org/stable/modules/linear_model.html#logistic-regression\n",
      "  Returns\n"
     ]
    }
   ],
   "source": [
    "logistic_regression= LogisticRegression()\n",
    "logistic_regression.fit(X_train,y_train)\n",
    "y_pred=logistic_regression.predict(X_test)"
   ]
  },
  {
   "cell_type": "code",
   "execution_count": null,
   "metadata": {},
   "outputs": [],
   "source": []
  }
 ],
 "metadata": {
  "colab": {
   "name": "BRFSS_capstone.ipynb",
   "provenance": []
  },
  "kernelspec": {
   "display_name": "Python 3",
   "language": "python",
   "name": "python3"
  },
  "language_info": {
   "codemirror_mode": {
    "name": "ipython",
    "version": 3
   },
   "file_extension": ".py",
   "mimetype": "text/x-python",
   "name": "python",
   "nbconvert_exporter": "python",
   "pygments_lexer": "ipython3",
   "version": "3.7.6"
  }
 },
 "nbformat": 4,
 "nbformat_minor": 1
}
